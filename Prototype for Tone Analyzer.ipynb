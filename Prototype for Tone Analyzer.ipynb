{
 "cells": [
  {
   "cell_type": "code",
   "execution_count": 3,
   "metadata": {},
   "outputs": [
    {
     "name": "stdout",
     "output_type": "stream",
     "text": [
      "\n",
      "tone_chat() example 1:\n",
      "\n",
      "{\n",
      "  \"utterances_tone\": [\n",
      "    {\n",
      "      \"utterance_text\": \"I am very happy.\", \n",
      "      \"utterance_id\": 0, \n",
      "      \"tones\": [\n",
      "        {\n",
      "          \"tone_name\": \"Excited\", \n",
      "          \"score\": 0.912181, \n",
      "          \"tone_id\": \"excited\"\n",
      "        }\n",
      "      ]\n",
      "    }, \n",
      "    {\n",
      "      \"utterance_text\": \"It is a good day.\", \n",
      "      \"utterance_id\": 1, \n",
      "      \"tones\": [\n",
      "        {\n",
      "          \"tone_name\": \"Excited\", \n",
      "          \"score\": 0.67376, \n",
      "          \"tone_id\": \"excited\"\n",
      "        }, \n",
      "        {\n",
      "          \"tone_name\": \"Satisfied\", \n",
      "          \"score\": 0.722718, \n",
      "          \"tone_id\": \"satisfied\"\n",
      "        }\n",
      "      ]\n",
      "    }\n",
      "  ]\n",
      "}\n",
      "\n",
      "tone() example 1:\n",
      "\n",
      "{\n",
      "  \"document_tone\": {\n",
      "    \"tones\": [\n",
      "      {\n",
      "        \"tone_name\": \"Joy\", \n",
      "        \"score\": 0.961678, \n",
      "        \"tone_id\": \"joy\"\n",
      "      }, \n",
      "      {\n",
      "        \"tone_name\": \"Confident\", \n",
      "        \"score\": 0.983213, \n",
      "        \"tone_id\": \"confident\"\n",
      "      }\n",
      "    ]\n",
      "  }, \n",
      "  \"sentences_tone\": [\n",
      "    {\n",
      "      \"text\": \"I am very happy.\", \n",
      "      \"sentence_id\": 0, \n",
      "      \"tones\": [\n",
      "        {\n",
      "          \"tone_name\": \"Joy\", \n",
      "          \"score\": 1.0, \n",
      "          \"tone_id\": \"joy\"\n",
      "        }, \n",
      "        {\n",
      "          \"tone_name\": \"Confident\", \n",
      "          \"score\": 0.97759, \n",
      "          \"tone_id\": \"confident\"\n",
      "        }\n",
      "      ]\n",
      "    }, \n",
      "    {\n",
      "      \"text\": \"It is a good day.\", \n",
      "      \"sentence_id\": 1, \n",
      "      \"tones\": [\n",
      "        {\n",
      "          \"tone_name\": \"Joy\", \n",
      "          \"score\": 0.914543, \n",
      "          \"tone_id\": \"joy\"\n",
      "        }\n",
      "      ]\n",
      "    }\n",
      "  ]\n",
      "}\n",
      "\n",
      "tone() example 2:\n",
      "\n"
     ]
    },
    {
     "ename": "NameError",
     "evalue": "name '__file__' is not defined",
     "output_type": "error",
     "traceback": [
      "\u001b[1;31m\u001b[0m",
      "\u001b[1;31mNameError\u001b[0mTraceback (most recent call last)",
      "\u001b[1;32m<ipython-input-3-761f8a37031b>\u001b[0m in \u001b[0;36m<module>\u001b[1;34m()\u001b[0m\n\u001b[0;32m     19\u001b[0m \u001b[1;33m\u001b[0m\u001b[0m\n\u001b[0;32m     20\u001b[0m \u001b[1;32mprint\u001b[0m\u001b[1;33m(\u001b[0m\u001b[1;34m\"\\ntone() example 2:\\n\"\u001b[0m\u001b[1;33m)\u001b[0m\u001b[1;33m\u001b[0m\u001b[0m\n\u001b[1;32m---> 21\u001b[1;33m with open(join(dirname(__file__),\n\u001b[0m\u001b[0;32m     22\u001b[0m                '../resources/tone-example.json')) as tone_json:\n\u001b[0;32m     23\u001b[0m     \u001b[0mtone\u001b[0m \u001b[1;33m=\u001b[0m \u001b[0mtone_analyzer\u001b[0m\u001b[1;33m.\u001b[0m\u001b[0mtone\u001b[0m\u001b[1;33m(\u001b[0m\u001b[0mjson\u001b[0m\u001b[1;33m.\u001b[0m\u001b[0mload\u001b[0m\u001b[1;33m(\u001b[0m\u001b[0mtone_json\u001b[0m\u001b[1;33m)\u001b[0m\u001b[1;33m[\u001b[0m\u001b[1;34m'text'\u001b[0m\u001b[1;33m]\u001b[0m\u001b[1;33m,\u001b[0m \u001b[1;34m\"text/plain\"\u001b[0m\u001b[1;33m)\u001b[0m\u001b[1;33m\u001b[0m\u001b[0m\n",
      "\u001b[1;31mNameError\u001b[0m: name '__file__' is not defined"
     ]
    }
   ],
   "source": [
    "from __future__ import print_function\n",
    "import json\n",
    "from os.path import join, dirname\n",
    "from watson_developer_cloud import ToneAnalyzerV3\n",
    "\n",
    "tone_analyzer = ToneAnalyzerV3(\n",
    "    username = '40b1ff50-73ed-4398-b705-ab5f56424ce1',\n",
    "    password = 'zTOgl5ZJHs8u',\n",
    "    version = '2017-09-26')\n",
    "\n",
    "print(\"\\ntone_chat() example 1:\\n\")\n",
    "utterances = [{'text': 'I am very happy.', 'user': 'glenn'},\n",
    "              {'text': 'It is a good day.', 'user': 'glenn'}]\n",
    "print(json.dumps(tone_analyzer.tone_chat(utterances), indent=2))\n",
    "\n",
    "print(\"\\ntone() example 1:\\n\")\n",
    "print(json.dumps(tone_analyzer.tone(tone_input='I am very happy. It is a good day.',\n",
    "                                    content_type=\"text/plain\"), indent=2))\n",
    "\n",
    "print(\"\\ntone() example 2:\\n\")\n",
    "with open(join(dirname(__file__),\n",
    "               '../resources/tone-example.json')) as tone_json:\n",
    "    tone = tone_analyzer.tone(json.load(tone_json)['text'], \"text/plain\")\n",
    "print(json.dumps(tone, indent=2))\n",
    "\n",
    "print(\"\\ntone() example 3:\\n\")\n",
    "with open(join(dirname(__file__),\n",
    "               '../resources/tone-example.json')) as tone_json:\n",
    "    tone = tone_analyzer.tone(tone_input=json.load(tone_json)['text'],\n",
    "                              content_type='text/plain', sentences=True)\n",
    "print(json.dumps(tone, indent=2))\n",
    "\n",
    "print(\"\\ntone() example 4:\\n\")\n",
    "with open(join(dirname(__file__),\n",
    "               '../resources/tone-example.json')) as tone_json:\n",
    "    tone = tone_analyzer.tone(tone_input=json.load(tone_json),\n",
    "                              content_type='application/json')\n",
    "print(json.dumps(tone, indent=2))\n",
    "\n",
    "print(\"\\ntone() example 5:\\n\")\n",
    "with open(join(dirname(__file__),\n",
    "               '../resources/tone-example-html.json')) as tone_html:\n",
    "    tone = tone_analyzer.tone(json.load(tone_html)['text'],\n",
    "                              content_type='text/html')\n",
    "print(json.dumps(tone, indent=2))"
   ]
  },
  {
   "cell_type": "code",
   "execution_count": 2,
   "metadata": {},
   "outputs": [
    {
     "name": "stdout",
     "output_type": "stream",
     "text": [
      "Requirement already up-to-date: watson-developer-cloud in c:\\users\\azure\\anaconda2\\lib\\site-packages\n",
      "Requirement already up-to-date: autobahn>=0.10.9 in c:\\users\\azure\\anaconda2\\lib\\site-packages (from watson-developer-cloud)\n",
      "Requirement already up-to-date: pyOpenSSL>=16.2.0 in c:\\users\\azure\\anaconda2\\lib\\site-packages (from watson-developer-cloud)\n",
      "Requirement already up-to-date: python-dateutil>=2.5.3 in c:\\users\\azure\\anaconda2\\lib\\site-packages (from watson-developer-cloud)\n",
      "Requirement already up-to-date: service-identity>=17.0.0 in c:\\users\\azure\\anaconda2\\lib\\site-packages (from watson-developer-cloud)\n",
      "Requirement already up-to-date: Twisted>=13.2.0 in c:\\users\\azure\\anaconda2\\lib\\site-packages (from watson-developer-cloud)\n",
      "Requirement already up-to-date: requests<3.0,>=2.0 in c:\\users\\azure\\anaconda2\\lib\\site-packages (from watson-developer-cloud)\n",
      "Requirement already up-to-date: six>=1.10.0 in c:\\users\\azure\\anaconda2\\lib\\site-packages (from autobahn>=0.10.9->watson-developer-cloud)\n",
      "Requirement already up-to-date: txaio>=2.7.0 in c:\\users\\azure\\anaconda2\\lib\\site-packages (from autobahn>=0.10.9->watson-developer-cloud)\n",
      "Collecting cryptography>=2.1.4 (from pyOpenSSL>=16.2.0->watson-developer-cloud)\n",
      "  Using cached cryptography-2.2.2-cp27-cp27m-win_amd64.whl\n",
      "Requirement already up-to-date: pyasn1 in c:\\users\\azure\\anaconda2\\lib\\site-packages (from service-identity>=17.0.0->watson-developer-cloud)\n",
      "Requirement already up-to-date: attrs in c:\\users\\azure\\anaconda2\\lib\\site-packages (from service-identity>=17.0.0->watson-developer-cloud)\n",
      "Requirement already up-to-date: pyasn1-modules in c:\\users\\azure\\anaconda2\\lib\\site-packages (from service-identity>=17.0.0->watson-developer-cloud)\n",
      "Requirement already up-to-date: hyperlink>=17.1.1 in c:\\users\\azure\\anaconda2\\lib\\site-packages (from Twisted>=13.2.0->watson-developer-cloud)\n",
      "Requirement already up-to-date: Automat>=0.3.0 in c:\\users\\azure\\anaconda2\\lib\\site-packages (from Twisted>=13.2.0->watson-developer-cloud)\n",
      "Requirement already up-to-date: constantly>=15.1 in c:\\users\\azure\\anaconda2\\lib\\site-packages (from Twisted>=13.2.0->watson-developer-cloud)\n",
      "Requirement already up-to-date: zope.interface>=3.6.0 in c:\\users\\azure\\anaconda2\\lib\\site-packages (from Twisted>=13.2.0->watson-developer-cloud)\n",
      "Requirement already up-to-date: incremental>=16.10.1 in c:\\users\\azure\\anaconda2\\lib\\site-packages (from Twisted>=13.2.0->watson-developer-cloud)\n",
      "Requirement already up-to-date: chardet<3.1.0,>=3.0.2 in c:\\users\\azure\\anaconda2\\lib\\site-packages (from requests<3.0,>=2.0->watson-developer-cloud)\n",
      "Requirement already up-to-date: idna<2.7,>=2.5 in c:\\users\\azure\\anaconda2\\lib\\site-packages (from requests<3.0,>=2.0->watson-developer-cloud)\n",
      "Requirement already up-to-date: urllib3<1.23,>=1.21.1 in c:\\users\\azure\\anaconda2\\lib\\site-packages (from requests<3.0,>=2.0->watson-developer-cloud)\n",
      "Requirement already up-to-date: certifi>=2017.4.17 in c:\\users\\azure\\anaconda2\\lib\\site-packages (from requests<3.0,>=2.0->watson-developer-cloud)\n",
      "Collecting cffi>=1.7; platform_python_implementation != \"PyPy\" (from cryptography>=2.1.4->pyOpenSSL>=16.2.0->watson-developer-cloud)\n",
      "  Using cached cffi-1.11.5-cp27-cp27m-win_amd64.whl\n",
      "Requirement already up-to-date: enum34; python_version < \"3\" in c:\\users\\azure\\anaconda2\\lib\\site-packages (from cryptography>=2.1.4->pyOpenSSL>=16.2.0->watson-developer-cloud)\n",
      "Requirement already up-to-date: asn1crypto>=0.21.0 in c:\\users\\azure\\anaconda2\\lib\\site-packages (from cryptography>=2.1.4->pyOpenSSL>=16.2.0->watson-developer-cloud)\n",
      "Requirement already up-to-date: ipaddress; python_version < \"3\" in c:\\users\\azure\\anaconda2\\lib\\site-packages (from cryptography>=2.1.4->pyOpenSSL>=16.2.0->watson-developer-cloud)\n",
      "Requirement already up-to-date: setuptools in c:\\users\\azure\\anaconda2\\lib\\site-packages (from zope.interface>=3.6.0->Twisted>=13.2.0->watson-developer-cloud)\n",
      "Requirement already up-to-date: pycparser in c:\\users\\azure\\anaconda2\\lib\\site-packages (from cffi>=1.7; platform_python_implementation != \"PyPy\"->cryptography>=2.1.4->pyOpenSSL>=16.2.0->watson-developer-cloud)\n",
      "Installing collected packages: cffi, cryptography\n",
      "  Found existing installation: cffi 1.11.4\n",
      "    Uninstalling cffi-1.11.4:\n",
      "      Successfully uninstalled cffi-1.11.4\n",
      "  Rolling back uninstall of cffi\n"
     ]
    },
    {
     "name": "stderr",
     "output_type": "stream",
     "text": [
      "Exception:\n",
      "Traceback (most recent call last):\n",
      "  File \"c:\\users\\azure\\anaconda2\\lib\\site-packages\\pip\\basecommand.py\", line 215, in main\n",
      "    status = self.run(options, args)\n",
      "  File \"c:\\users\\azure\\anaconda2\\lib\\site-packages\\pip\\commands\\install.py\", line 342, in run\n",
      "    prefix=options.prefix_path,\n",
      "  File \"c:\\users\\azure\\anaconda2\\lib\\site-packages\\pip\\req\\req_set.py\", line 784, in install\n",
      "    **kwargs\n",
      "  File \"c:\\users\\azure\\anaconda2\\lib\\site-packages\\pip\\req\\req_install.py\", line 851, in install\n",
      "    self.move_wheel_files(self.source_dir, root=root, prefix=prefix)\n",
      "  File \"c:\\users\\azure\\anaconda2\\lib\\site-packages\\pip\\req\\req_install.py\", line 1064, in move_wheel_files\n",
      "    isolated=self.isolated,\n",
      "  File \"c:\\users\\azure\\anaconda2\\lib\\site-packages\\pip\\wheel.py\", line 345, in move_wheel_files\n",
      "    clobber(source, lib_dir, True)\n",
      "  File \"c:\\users\\azure\\anaconda2\\lib\\site-packages\\pip\\wheel.py\", line 323, in clobber\n",
      "    shutil.copyfile(srcfile, destfile)\n",
      "  File \"c:\\users\\azure\\anaconda2\\lib\\shutil.py\", line 97, in copyfile\n",
      "    with open(dst, 'wb') as fdst:\n",
      "IOError: [Errno 13] Permission denied: 'c:\\\\users\\\\azure\\\\anaconda2\\\\Lib\\\\site-packages\\\\_cffi_backend.pyd'\n"
     ]
    }
   ],
   "source": [
    "!pip install --upgrade watson-developer-cloud\n"
   ]
  },
  {
   "cell_type": "code",
   "execution_count": 5,
   "metadata": {},
   "outputs": [
    {
     "name": "stdout",
     "output_type": "stream",
     "text": [
      "Collecting pip\n",
      "  Downloading pip-9.0.3-py2.py3-none-any.whl (1.4MB)\n",
      "Installing collected packages: pip\n",
      "  Found existing installation: pip 9.0.1\n",
      "    Uninstalling pip-9.0.1:\n",
      "      Successfully uninstalled pip-9.0.1\n",
      "Successfully installed pip-9.0.3\n"
     ]
    }
   ],
   "source": [
    "!python -m pip install --upgrade pip"
   ]
  },
  {
   "cell_type": "code",
   "execution_count": 6,
   "metadata": {},
   "outputs": [
    {
     "name": "stdout",
     "output_type": "stream",
     "text": [
      "Requirement already up-to-date: watson-developer-cloud in c:\\users\\azure\\anaconda2\\lib\\site-packages\n",
      "Requirement already up-to-date: autobahn>=0.10.9 in c:\\users\\azure\\anaconda2\\lib\\site-packages (from watson-developer-cloud)\n",
      "Requirement already up-to-date: pyOpenSSL>=16.2.0 in c:\\users\\azure\\anaconda2\\lib\\site-packages (from watson-developer-cloud)\n",
      "Requirement already up-to-date: python-dateutil>=2.5.3 in c:\\users\\azure\\anaconda2\\lib\\site-packages (from watson-developer-cloud)\n",
      "Requirement already up-to-date: service-identity>=17.0.0 in c:\\users\\azure\\anaconda2\\lib\\site-packages (from watson-developer-cloud)\n",
      "Requirement already up-to-date: Twisted>=13.2.0 in c:\\users\\azure\\anaconda2\\lib\\site-packages (from watson-developer-cloud)\n",
      "Requirement already up-to-date: requests<3.0,>=2.0 in c:\\users\\azure\\anaconda2\\lib\\site-packages (from watson-developer-cloud)\n",
      "Requirement already up-to-date: six>=1.10.0 in c:\\users\\azure\\anaconda2\\lib\\site-packages (from autobahn>=0.10.9->watson-developer-cloud)\n",
      "Requirement already up-to-date: txaio>=2.7.0 in c:\\users\\azure\\anaconda2\\lib\\site-packages (from autobahn>=0.10.9->watson-developer-cloud)\n",
      "Collecting cryptography>=2.1.4 (from pyOpenSSL>=16.2.0->watson-developer-cloud)\n",
      "  Downloading cryptography-2.2.2-cp27-cp27m-win_amd64.whl (1.3MB)\n",
      "Requirement already up-to-date: pyasn1 in c:\\users\\azure\\anaconda2\\lib\\site-packages (from service-identity>=17.0.0->watson-developer-cloud)\n",
      "Requirement already up-to-date: attrs in c:\\users\\azure\\anaconda2\\lib\\site-packages (from service-identity>=17.0.0->watson-developer-cloud)\n",
      "Requirement already up-to-date: pyasn1-modules in c:\\users\\azure\\anaconda2\\lib\\site-packages (from service-identity>=17.0.0->watson-developer-cloud)\n",
      "Requirement already up-to-date: hyperlink>=17.1.1 in c:\\users\\azure\\anaconda2\\lib\\site-packages (from Twisted>=13.2.0->watson-developer-cloud)\n",
      "Requirement already up-to-date: Automat>=0.3.0 in c:\\users\\azure\\anaconda2\\lib\\site-packages (from Twisted>=13.2.0->watson-developer-cloud)\n",
      "Requirement already up-to-date: constantly>=15.1 in c:\\users\\azure\\anaconda2\\lib\\site-packages (from Twisted>=13.2.0->watson-developer-cloud)\n",
      "Requirement already up-to-date: zope.interface>=3.6.0 in c:\\users\\azure\\anaconda2\\lib\\site-packages (from Twisted>=13.2.0->watson-developer-cloud)\n",
      "Requirement already up-to-date: incremental>=16.10.1 in c:\\users\\azure\\anaconda2\\lib\\site-packages (from Twisted>=13.2.0->watson-developer-cloud)\n",
      "Requirement already up-to-date: chardet<3.1.0,>=3.0.2 in c:\\users\\azure\\anaconda2\\lib\\site-packages (from requests<3.0,>=2.0->watson-developer-cloud)\n",
      "Requirement already up-to-date: idna<2.7,>=2.5 in c:\\users\\azure\\anaconda2\\lib\\site-packages (from requests<3.0,>=2.0->watson-developer-cloud)\n",
      "Requirement already up-to-date: urllib3<1.23,>=1.21.1 in c:\\users\\azure\\anaconda2\\lib\\site-packages (from requests<3.0,>=2.0->watson-developer-cloud)\n",
      "Requirement already up-to-date: certifi>=2017.4.17 in c:\\users\\azure\\anaconda2\\lib\\site-packages (from requests<3.0,>=2.0->watson-developer-cloud)\n",
      "Collecting cffi>=1.7; platform_python_implementation != \"PyPy\" (from cryptography>=2.1.4->pyOpenSSL>=16.2.0->watson-developer-cloud)\n",
      "  Downloading cffi-1.11.5-cp27-cp27m-win_amd64.whl (163kB)\n",
      "Requirement already up-to-date: enum34; python_version < \"3\" in c:\\users\\azure\\anaconda2\\lib\\site-packages (from cryptography>=2.1.4->pyOpenSSL>=16.2.0->watson-developer-cloud)\n",
      "Requirement already up-to-date: asn1crypto>=0.21.0 in c:\\users\\azure\\anaconda2\\lib\\site-packages (from cryptography>=2.1.4->pyOpenSSL>=16.2.0->watson-developer-cloud)\n",
      "Requirement already up-to-date: ipaddress; python_version < \"3\" in c:\\users\\azure\\anaconda2\\lib\\site-packages (from cryptography>=2.1.4->pyOpenSSL>=16.2.0->watson-developer-cloud)\n",
      "Requirement already up-to-date: setuptools in c:\\users\\azure\\anaconda2\\lib\\site-packages (from zope.interface>=3.6.0->Twisted>=13.2.0->watson-developer-cloud)\n",
      "Requirement already up-to-date: pycparser in c:\\users\\azure\\anaconda2\\lib\\site-packages (from cffi>=1.7; platform_python_implementation != \"PyPy\"->cryptography>=2.1.4->pyOpenSSL>=16.2.0->watson-developer-cloud)\n",
      "Installing collected packages: cffi, cryptography\n",
      "  Found existing installation: cffi 1.11.4\n",
      "    Uninstalling cffi-1.11.4:\n",
      "      Successfully uninstalled cffi-1.11.4\n",
      "  Rolling back uninstall of cffi\n"
     ]
    },
    {
     "name": "stderr",
     "output_type": "stream",
     "text": [
      "Cache entry deserialization failed, entry ignored\n",
      "Cache entry deserialization failed, entry ignored\n",
      "Cache entry deserialization failed, entry ignored\n",
      "Cache entry deserialization failed, entry ignored\n",
      "Cache entry deserialization failed, entry ignored\n",
      "Cache entry deserialization failed, entry ignored\n",
      "Cache entry deserialization failed, entry ignored\n",
      "Cache entry deserialization failed, entry ignored\n",
      "Cache entry deserialization failed, entry ignored\n",
      "Cache entry deserialization failed, entry ignored\n",
      "  Cache entry deserialization failed, entry ignored\n",
      "Cache entry deserialization failed, entry ignored\n",
      "Cache entry deserialization failed, entry ignored\n",
      "Cache entry deserialization failed, entry ignored\n",
      "Cache entry deserialization failed, entry ignored\n",
      "Cache entry deserialization failed, entry ignored\n",
      "Cache entry deserialization failed, entry ignored\n",
      "Cache entry deserialization failed, entry ignored\n",
      "Cache entry deserialization failed, entry ignored\n",
      "Cache entry deserialization failed, entry ignored\n",
      "Cache entry deserialization failed, entry ignored\n",
      "Cache entry deserialization failed, entry ignored\n",
      "Cache entry deserialization failed, entry ignored\n",
      "Cache entry deserialization failed, entry ignored\n",
      "  Cache entry deserialization failed, entry ignored\n",
      "Cache entry deserialization failed, entry ignored\n",
      "Cache entry deserialization failed, entry ignored\n",
      "Cache entry deserialization failed, entry ignored\n",
      "Cache entry deserialization failed, entry ignored\n",
      "Cache entry deserialization failed, entry ignored\n",
      "Exception:\n",
      "Traceback (most recent call last):\n",
      "  File \"c:\\users\\azure\\anaconda2\\lib\\site-packages\\pip\\basecommand.py\", line 215, in main\n",
      "    status = self.run(options, args)\n",
      "  File \"c:\\users\\azure\\anaconda2\\lib\\site-packages\\pip\\commands\\install.py\", line 342, in run\n",
      "    prefix=options.prefix_path,\n",
      "  File \"c:\\users\\azure\\anaconda2\\lib\\site-packages\\pip\\req\\req_set.py\", line 784, in install\n",
      "    **kwargs\n",
      "  File \"c:\\users\\azure\\anaconda2\\lib\\site-packages\\pip\\req\\req_install.py\", line 851, in install\n",
      "    self.move_wheel_files(self.source_dir, root=root, prefix=prefix)\n",
      "  File \"c:\\users\\azure\\anaconda2\\lib\\site-packages\\pip\\req\\req_install.py\", line 1064, in move_wheel_files\n",
      "    isolated=self.isolated,\n",
      "  File \"c:\\users\\azure\\anaconda2\\lib\\site-packages\\pip\\wheel.py\", line 345, in move_wheel_files\n",
      "    clobber(source, lib_dir, True)\n",
      "  File \"c:\\users\\azure\\anaconda2\\lib\\site-packages\\pip\\wheel.py\", line 323, in clobber\n",
      "    shutil.copyfile(srcfile, destfile)\n",
      "  File \"c:\\users\\azure\\anaconda2\\lib\\shutil.py\", line 97, in copyfile\n",
      "    with open(dst, 'wb') as fdst:\n",
      "IOError: [Errno 13] Permission denied: 'c:\\\\users\\\\azure\\\\anaconda2\\\\Lib\\\\site-packages\\\\_cffi_backend.pyd'\n",
      "Cache entry deserialization failed, entry ignored\n"
     ]
    }
   ],
   "source": [
    "!pip install --upgrade watson-developer-cloud"
   ]
  },
  {
   "cell_type": "code",
   "execution_count": 8,
   "metadata": {},
   "outputs": [
    {
     "name": "stdout",
     "output_type": "stream",
     "text": [
      "Requirement already satisfied: zope.interface in c:\\users\\azure\\anaconda2\\lib\\site-packages\n",
      "Requirement already satisfied: setuptools in c:\\users\\azure\\anaconda2\\lib\\site-packages (from zope.interface)\n"
     ]
    }
   ],
   "source": [
    "!pip install zope.interface"
   ]
  },
  {
   "cell_type": "code",
   "execution_count": 4,
   "metadata": {},
   "outputs": [
    {
     "name": "stdout",
     "output_type": "stream",
     "text": [
      "+ apiseeds-lyrics@2.0.0\n",
      "added 1 package in 1.424s\n"
     ]
    }
   ],
   "source": [
    "!npm install -s apiseeds-lyrics\n"
   ]
  },
  {
   "cell_type": "code",
   "execution_count": null,
   "metadata": {},
   "outputs": [],
   "source": []
  }
 ],
 "metadata": {
  "kernelspec": {
   "display_name": "Python 2",
   "language": "python",
   "name": "python2"
  },
  "language_info": {
   "codemirror_mode": {
    "name": "ipython",
    "version": 2
   },
   "file_extension": ".py",
   "mimetype": "text/x-python",
   "name": "python",
   "nbconvert_exporter": "python",
   "pygments_lexer": "ipython2",
   "version": "2.7.14"
  }
 },
 "nbformat": 4,
 "nbformat_minor": 2
}
