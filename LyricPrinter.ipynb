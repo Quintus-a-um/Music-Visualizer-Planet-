{
 "cells": [
  {
   "cell_type": "code",
   "execution_count": 7,
   "metadata": {},
   "outputs": [
    {
     "name": "stdout",
     "output_type": "stream",
     "text": [
      "On a cold winter morning, in a time before the light\n",
      "In flames of death's eternal reign we ride towards the fight\n",
      "When the darkness has fallen down and the times are tough alright\n",
      "The sound of evil laughter falls around the world tonight\n",
      "\n",
      "Fighting hard, fighting on for the steel through the wastelands evermore\n",
      "The scattered souls will feel the hell bodies wasted on the shores\n",
      "On the blackest plains in hell's domain we watch them as they go\n",
      "In fire and pain now once again we know\n",
      "\n",
      "So now we fly, yeah, we're free, we're free before the thunderstorm\n",
      "On towards the wilderness our quest carries on\n",
      "Far beyond the sundown, far beyond the moonlight\n",
      "Deep inside our hearts and all our souls\n",
      "\n",
      "So far away we wait for the day\n",
      "For the lives all so wasted and gone\n",
      "We feel the pain of a lifetime lost in a thousand days\n",
      "Through the fire and the flames we carry on\n",
      "\n",
      "As the red day is dawning and the lightning cracks the sky\n",
      "They'll raise their hands to the heavens above with resentment in their eyes\n",
      "Running back through the mid-morning light there's a burning in my heart\n",
      "We're banished from a time in a fallen land to a life beyond the stars\n",
      "\n",
      "In your darkest dreams see to believe our destiny is time\n",
      "And endlessly we'll all be free tonight\n",
      "\n",
      "And on the wings of a dream so far beyond reality\n",
      "All alone in desperation now the time is gone\n",
      "Lost inside you'll never find, lost within my own mind\n",
      "Day after day this misery must go on\n",
      "\n",
      "So far away we wait for the day\n",
      "For the lives all so wasted and gone\n",
      "We feel the pain of a lifetime lost in a thousand days\n",
      "Through the fire and the flames we carry on\n",
      "\n",
      "Now here we stand with their blood on our hands\n",
      "We fought so hard now, can we understand?\n",
      "I'll break the seal of this curse if I possibly can\n",
      "For freedom of every man\n",
      "\n",
      "So far away we wait for the day\n",
      "For the lives all so wasted and gone\n",
      "We feel the pain of a lifetime lost in a thousand days\n",
      "Through the fire and the flames we carry on\n"
     ]
    }
   ],
   "source": [
    "import lyricwikia\n",
    "lyrics = lyricwikia.get_lyrics('Dragonforce', 'Through the Fire and Flames')\n",
    "print(lyrics)"
   ]
  },
  {
   "cell_type": "code",
   "execution_count": 3,
   "metadata": {},
   "outputs": [
    {
     "name": "stdout",
     "output_type": "stream",
     "text": [
      "Collecting lyricwikia\n",
      "  Downloading lyricwikia-0.1.9.tar.gz\n",
      "Requirement already satisfied: beautifulsoup4 in c:\\users\\azure\\anaconda2\\lib\\site-packages (from lyricwikia)\n",
      "Requirement already satisfied: requests in c:\\users\\azure\\anaconda2\\lib\\site-packages (from lyricwikia)\n",
      "Requirement already satisfied: six in c:\\users\\azure\\anaconda2\\lib\\site-packages (from lyricwikia)\n",
      "Requirement already satisfied: chardet<3.1.0,>=3.0.2 in c:\\users\\azure\\anaconda2\\lib\\site-packages (from requests->lyricwikia)\n",
      "Requirement already satisfied: idna<2.7,>=2.5 in c:\\users\\azure\\anaconda2\\lib\\site-packages (from requests->lyricwikia)\n",
      "Requirement already satisfied: urllib3<1.23,>=1.21.1 in c:\\users\\azure\\anaconda2\\lib\\site-packages (from requests->lyricwikia)\n",
      "Requirement already satisfied: certifi>=2017.4.17 in c:\\users\\azure\\anaconda2\\lib\\site-packages (from requests->lyricwikia)\n",
      "Building wheels for collected packages: lyricwikia\n",
      "  Running setup.py bdist_wheel for lyricwikia: started\n",
      "  Running setup.py bdist_wheel for lyricwikia: finished with status 'done'\n",
      "  Stored in directory: C:\\Users\\Azure\\AppData\\Local\\pip\\Cache\\wheels\\69\\3f\\2c\\fcd6184c0e30034b229cee4925050638e2f40837dac3787ec3\n",
      "Successfully built lyricwikia\n",
      "Installing collected packages: lyricwikia\n",
      "Successfully installed lyricwikia-0.1.9\n"
     ]
    }
   ],
   "source": [
    "!pip install lyricwikia\n"
   ]
  },
  {
   "cell_type": "code",
   "execution_count": null,
   "metadata": {},
   "outputs": [],
   "source": []
  }
 ],
 "metadata": {
  "kernelspec": {
   "display_name": "Python 2",
   "language": "python",
   "name": "python2"
  },
  "language_info": {
   "codemirror_mode": {
    "name": "ipython",
    "version": 2
   },
   "file_extension": ".py",
   "mimetype": "text/x-python",
   "name": "python",
   "nbconvert_exporter": "python",
   "pygments_lexer": "ipython2",
   "version": "2.7.14"
  }
 },
 "nbformat": 4,
 "nbformat_minor": 2
}
