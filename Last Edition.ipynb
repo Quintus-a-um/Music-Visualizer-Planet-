{
 "cells": [
  {
   "cell_type": "code",
   "execution_count": 9,
   "metadata": {
    "scrolled": true
   },
   "outputs": [
    {
     "name": "stdout",
     "output_type": "stream",
     "text": [
      "\n",
      "tone_chat() Dragonforce - Through the Fire and Flames:\n",
      "\n"
     ]
    },
    {
     "ename": "WatsonApiException",
     "evalue": "Error: Unauthorized: Access is denied due to invalid credentials , Code: 401 , X-dp-watson-tran-id: gateway01-1678450921",
     "output_type": "error",
     "traceback": [
      "\u001b[1;31m---------------------------------------------------------------------------\u001b[0m",
      "\u001b[1;31mWatsonApiException\u001b[0m                        Traceback (most recent call last)",
      "\u001b[1;32m<ipython-input-9-a81749728a6c>\u001b[0m in \u001b[0;36m<module>\u001b[1;34m()\u001b[0m\n\u001b[0;32m     33\u001b[0m \u001b[1;33m\u001b[0m\u001b[0m\n\u001b[0;32m     34\u001b[0m     \u001b[0mcontent_type\u001b[0m \u001b[1;33m=\u001b[0m \u001b[1;34m'application/json'\u001b[0m\u001b[1;33m\u001b[0m\u001b[0m\n\u001b[1;32m---> 35\u001b[1;33m     \u001b[0mtone\u001b[0m \u001b[1;33m=\u001b[0m \u001b[0mtone_analyzer\u001b[0m\u001b[1;33m.\u001b[0m\u001b[0mtone\u001b[0m\u001b[1;33m(\u001b[0m\u001b[1;33m{\u001b[0m\u001b[1;34m\"text\"\u001b[0m\u001b[1;33m:\u001b[0m \u001b[0mline\u001b[0m\u001b[1;33m}\u001b[0m\u001b[1;33m,\u001b[0m \u001b[0mcontent_type\u001b[0m\u001b[1;33m)\u001b[0m\u001b[1;33m\u001b[0m\u001b[0m\n\u001b[0m\u001b[0;32m     36\u001b[0m     \u001b[0mjsonText\u001b[0m \u001b[1;33m=\u001b[0m \u001b[0mjson\u001b[0m\u001b[1;33m.\u001b[0m\u001b[0mdumps\u001b[0m\u001b[1;33m(\u001b[0m\u001b[0mtone\u001b[0m\u001b[1;33m,\u001b[0m \u001b[0mindent\u001b[0m\u001b[1;33m=\u001b[0m\u001b[1;36m2\u001b[0m\u001b[1;33m)\u001b[0m\u001b[1;33m\u001b[0m\u001b[0m\n\u001b[0;32m     37\u001b[0m \u001b[1;33m\u001b[0m\u001b[0m\n",
      "\u001b[1;32m~\\Anaconda3\\lib\\site-packages\\watson_developer_cloud\\tone_analyzer_v3.py\u001b[0m in \u001b[0;36mtone\u001b[1;34m(self, tone_input, content_type, sentences, tones, content_language, accept_language, **kwargs)\u001b[0m\n\u001b[0;32m    132\u001b[0m         headers = {\n\u001b[0;32m    133\u001b[0m             \u001b[1;34m'Content-Type'\u001b[0m\u001b[1;33m:\u001b[0m \u001b[0mcontent_type\u001b[0m\u001b[1;33m,\u001b[0m\u001b[1;33m\u001b[0m\u001b[0m\n\u001b[1;32m--> 134\u001b[1;33m             \u001b[1;34m'Content-Language'\u001b[0m\u001b[1;33m:\u001b[0m \u001b[0mcontent_language\u001b[0m\u001b[1;33m,\u001b[0m\u001b[1;33m\u001b[0m\u001b[0m\n\u001b[0m\u001b[0;32m    135\u001b[0m             \u001b[1;34m'Accept-Language'\u001b[0m\u001b[1;33m:\u001b[0m \u001b[0maccept_language\u001b[0m\u001b[1;33m\u001b[0m\u001b[0m\n\u001b[0;32m    136\u001b[0m         }\n",
      "\u001b[1;32m~\\Anaconda3\\lib\\site-packages\\watson_developer_cloud\\watson_service.py\u001b[0m in \u001b[0;36mrequest\u001b[1;34m(self, method, url, accept_json, headers, params, json, data, files, **kwargs)\u001b[0m\n\u001b[0;32m    414\u001b[0m                 \u001b[0mparams\u001b[0m\u001b[1;33m[\u001b[0m\u001b[1;34m'api_key'\u001b[0m\u001b[1;33m]\u001b[0m \u001b[1;33m=\u001b[0m \u001b[0mself\u001b[0m\u001b[1;33m.\u001b[0m\u001b[0mapi_key\u001b[0m\u001b[1;33m\u001b[0m\u001b[0m\n\u001b[0;32m    415\u001b[0m \u001b[1;33m\u001b[0m\u001b[0m\n\u001b[1;32m--> 416\u001b[1;33m         \u001b[0mkwargs\u001b[0m \u001b[1;33m=\u001b[0m \u001b[0mdict\u001b[0m\u001b[1;33m(\u001b[0m\u001b[0mkwargs\u001b[0m\u001b[1;33m,\u001b[0m \u001b[1;33m**\u001b[0m\u001b[0mself\u001b[0m\u001b[1;33m.\u001b[0m\u001b[0mhttp_config\u001b[0m\u001b[1;33m)\u001b[0m\u001b[1;33m\u001b[0m\u001b[0m\n\u001b[0m\u001b[0;32m    417\u001b[0m         response = requests.request(method=method, url=full_url,\n\u001b[0;32m    418\u001b[0m                                     \u001b[0mcookies\u001b[0m\u001b[1;33m=\u001b[0m\u001b[0mself\u001b[0m\u001b[1;33m.\u001b[0m\u001b[0mjar\u001b[0m\u001b[1;33m,\u001b[0m \u001b[0mauth\u001b[0m\u001b[1;33m=\u001b[0m\u001b[0mauth\u001b[0m\u001b[1;33m,\u001b[0m\u001b[1;33m\u001b[0m\u001b[0m\n",
      "\u001b[1;31mWatsonApiException\u001b[0m: Error: Unauthorized: Access is denied due to invalid credentials , Code: 401 , X-dp-watson-tran-id: gateway01-1678450921"
     ]
    }
   ],
   "source": [
    "from __future__ import print_function\n",
    "import json\n",
    "import sys\n",
    "from os.path import join, dirname\n",
    "from watson_developer_cloud import ToneAnalyzerV3\n",
    "from musixmatch import Musixmatch\n",
    "\n",
    "musixmatch = Musixmatch('991ade38d35ffd10230e3a9991ada8d1')\n",
    "\n",
    "tone_analyzer = ToneAnalyzerV3(\n",
    "    username = '0f037ae5-dded-4931-b905-cb82fbfb6d18',\n",
    "    password = 'HOIhxwcFUqcl',\n",
    "    version = '2017-09-21')\n",
    "\n",
    "lyric = musixmatch.matcher_lyrics_get('Through the fire and flames', 'Dragonforce')\n",
    "\n",
    "#lyrics = lyric[\"message\"][\"body\"][\"lyrics\"][\"lyrics_body\"]\n",
    "    \n",
    "fh = open('lyrics.js', 'w+')\n",
    "\n",
    "fh.write(lyrics)\n",
    "\n",
    "fh.close()\n",
    "\n",
    "\n",
    "f = open('lyrics.js', 'r+')\n",
    "\n",
    "print(\"\\ntone_chat() Dragonforce - Through the Fire and Flames:\\n\")\n",
    "\n",
    "emotions = {}\n",
    "\n",
    "for line in f.readlines():\n",
    "    \n",
    "    content_type = 'application/json'\n",
    "    tone = tone_analyzer.tone({\"text\": line}, content_type)\n",
    "    jsonText = json.dumps(tone, indent=2)\n",
    "    \n",
    "    emotion = jsonText[\"sentence_tone\"][\"tone_name\"][\"score\"]\n",
    "  \n",
    "f.close()\n",
    "\n",
    "if emotions('anger') >= .5:\n",
    "   elif emotions('disgust') >= 0.5:\n",
    "   elif emotions('fear') >= 0.5:\n",
    "   elif emotions('joy') >= 0.5:\n",
    "   elif emotions('sadness') >=0.5:\n",
    "   elif emotions('analytical')>=0.5:\n",
    "   elif emotions('confident')>=0.5:\n",
    "   elif emotions('tentative')>=0.5:\n",
    "   elif emotions('openness')>=.5:\n",
    "   elif emotions('conscientiousness')>=.5:\n",
    "   elif emotions('extraversion')>=.5:\n",
    "   elif emotions('agreeableness')>=.5:\n",
    "   elif emotions('emotional range')>=.5:\n",
    "   else"
   ]
  },
  {
   "cell_type": "code",
   "execution_count": 7,
   "metadata": {},
   "outputs": [
    {
     "name": "stdout",
     "output_type": "stream",
     "text": [
      "Collecting watson-developer-cloud\n",
      "  Downloading https://files.pythonhosted.org/packages/4f/b5/d2242076082287db54ba04b435cf288b0fd03e767faf34df70d809cec404/watson-developer-cloud-1.3.3.tar.gz (177kB)\n",
      "Requirement not upgraded as not directly required: requests<3.0,>=2.0 in c:\\users\\azure\\anaconda3\\lib\\site-packages (from watson-developer-cloud) (2.18.4)\n",
      "Requirement not upgraded as not directly required: python_dateutil>=2.5.3 in c:\\users\\azure\\anaconda3\\lib\\site-packages (from watson-developer-cloud) (2.7.2)\n",
      "Requirement not upgraded as not directly required: autobahn>=0.10.9 in c:\\users\\azure\\anaconda3\\lib\\site-packages (from watson-developer-cloud) (18.4.1)\n",
      "Requirement not upgraded as not directly required: Twisted>=13.2.0 in c:\\users\\azure\\anaconda3\\lib\\site-packages (from watson-developer-cloud) (17.9.0)\n",
      "Requirement not upgraded as not directly required: pyOpenSSL>=16.2.0 in c:\\users\\azure\\anaconda3\\lib\\site-packages (from watson-developer-cloud) (17.5.0)\n",
      "Requirement not upgraded as not directly required: service-identity>=17.0.0 in c:\\users\\azure\\anaconda3\\lib\\site-packages (from watson-developer-cloud) (17.0.0)\n",
      "Requirement not upgraded as not directly required: chardet<3.1.0,>=3.0.2 in c:\\users\\azure\\anaconda3\\lib\\site-packages (from requests<3.0,>=2.0->watson-developer-cloud) (3.0.4)\n",
      "Requirement not upgraded as not directly required: idna<2.7,>=2.5 in c:\\users\\azure\\anaconda3\\lib\\site-packages (from requests<3.0,>=2.0->watson-developer-cloud) (2.6)\n",
      "Requirement not upgraded as not directly required: urllib3<1.23,>=1.21.1 in c:\\users\\azure\\anaconda3\\lib\\site-packages (from requests<3.0,>=2.0->watson-developer-cloud) (1.22)\n",
      "Requirement not upgraded as not directly required: certifi>=2017.4.17 in c:\\users\\azure\\anaconda3\\lib\\site-packages (from requests<3.0,>=2.0->watson-developer-cloud) (2018.4.16)\n",
      "Requirement not upgraded as not directly required: six>=1.5 in c:\\users\\azure\\anaconda3\\lib\\site-packages (from python_dateutil>=2.5.3->watson-developer-cloud) (1.11.0)\n",
      "Requirement not upgraded as not directly required: txaio>=2.10.0 in c:\\users\\azure\\anaconda3\\lib\\site-packages (from autobahn>=0.10.9->watson-developer-cloud) (2.10.0)\n",
      "Requirement not upgraded as not directly required: constantly>=15.1 in c:\\users\\azure\\anaconda3\\lib\\site-packages (from Twisted>=13.2.0->watson-developer-cloud) (15.1.0)\n",
      "Requirement not upgraded as not directly required: zope.interface>=4.0.2 in c:\\users\\azure\\anaconda3\\lib\\site-packages (from Twisted>=13.2.0->watson-developer-cloud) (4.5.0)\n",
      "Requirement not upgraded as not directly required: hyperlink>=17.1.1 in c:\\users\\azure\\anaconda3\\lib\\site-packages (from Twisted>=13.2.0->watson-developer-cloud) (18.0.0)\n",
      "Requirement not upgraded as not directly required: incremental>=16.10.1 in c:\\users\\azure\\anaconda3\\lib\\site-packages (from Twisted>=13.2.0->watson-developer-cloud) (17.5.0)\n",
      "Requirement not upgraded as not directly required: Automat>=0.3.0 in c:\\users\\azure\\anaconda3\\lib\\site-packages (from Twisted>=13.2.0->watson-developer-cloud) (0.6.0)\n",
      "Requirement not upgraded as not directly required: cryptography>=2.1.4 in c:\\users\\azure\\anaconda3\\lib\\site-packages (from pyOpenSSL>=16.2.0->watson-developer-cloud) (2.1.4)\n",
      "Requirement not upgraded as not directly required: pyasn1 in c:\\users\\azure\\anaconda3\\lib\\site-packages (from service-identity>=17.0.0->watson-developer-cloud) (0.4.2)\n",
      "Requirement not upgraded as not directly required: attrs in c:\\users\\azure\\anaconda3\\lib\\site-packages (from service-identity>=17.0.0->watson-developer-cloud) (17.4.0)\n",
      "Requirement not upgraded as not directly required: pyasn1-modules in c:\\users\\azure\\anaconda3\\lib\\site-packages (from service-identity>=17.0.0->watson-developer-cloud) (0.2.1)\n",
      "Requirement not upgraded as not directly required: setuptools in c:\\users\\azure\\anaconda3\\lib\\site-packages (from zope.interface>=4.0.2->Twisted>=13.2.0->watson-developer-cloud) (39.0.1)\n",
      "Requirement not upgraded as not directly required: asn1crypto>=0.21.0 in c:\\users\\azure\\anaconda3\\lib\\site-packages (from cryptography>=2.1.4->pyOpenSSL>=16.2.0->watson-developer-cloud) (0.24.0)\n",
      "Requirement not upgraded as not directly required: cffi>=1.7 in c:\\users\\azure\\anaconda3\\lib\\site-packages (from cryptography>=2.1.4->pyOpenSSL>=16.2.0->watson-developer-cloud) (1.11.4)\n",
      "Requirement not upgraded as not directly required: pycparser in c:\\users\\azure\\anaconda3\\lib\\site-packages (from cffi>=1.7->cryptography>=2.1.4->pyOpenSSL>=16.2.0->watson-developer-cloud) (2.18)\n",
      "Building wheels for collected packages: watson-developer-cloud\n",
      "  Running setup.py bdist_wheel for watson-developer-cloud: started\n",
      "  Running setup.py bdist_wheel for watson-developer-cloud: finished with status 'done'\n",
      "  Stored in directory: C:\\Users\\Azure\\AppData\\Local\\pip\\Cache\\wheels\\7a\\45\\e3\\4124673ac1081eefdae4e6a220e52ce84996fc808044d85c28\n",
      "Successfully built watson-developer-cloud\n",
      "Installing collected packages: watson-developer-cloud\n",
      "  Found existing installation: watson-developer-cloud 1.3.2\n",
      "    Uninstalling watson-developer-cloud-1.3.2:\n",
      "      Successfully uninstalled watson-developer-cloud-1.3.2\n",
      "Successfully installed watson-developer-cloud-1.3.3\n"
     ]
    },
    {
     "name": "stderr",
     "output_type": "stream",
     "text": [
      "notebook 5.4.0 requires ipykernel, which is not installed.\n",
      "jupyter 1.0.0 requires ipykernel, which is not installed.\n",
      "jupyter-console 5.2.0 requires ipykernel, which is not installed.\n",
      "ipywidgets 7.1.1 requires ipykernel>=4.5.1, which is not installed.\n"
     ]
    }
   ],
   "source": [
    "!pip install --upgrade watson-developer-cloud"
   ]
  },
  {
   "cell_type": "code",
   "execution_count": 8,
   "metadata": {},
   "outputs": [
    {
     "name": "stdout",
     "output_type": "stream",
     "text": [
      "Requirement already up-to-date: pip in c:\\users\\azure\\anaconda3\\lib\\site-packages (10.0.1)\n"
     ]
    },
    {
     "name": "stderr",
     "output_type": "stream",
     "text": [
      "notebook 5.4.0 requires ipykernel, which is not installed.\n",
      "jupyter 1.0.0 requires ipykernel, which is not installed.\n",
      "jupyter-console 5.2.0 requires ipykernel, which is not installed.\n",
      "ipywidgets 7.1.1 requires ipykernel>=4.5.1, which is not installed.\n"
     ]
    }
   ],
   "source": [
    "!python -m pip install --upgrade pip"
   ]
  },
  {
   "cell_type": "code",
   "execution_count": 7,
   "metadata": {},
   "outputs": [
    {
     "name": "stdout",
     "output_type": "stream",
     "text": [
      "Collecting lyricwikia\n",
      "  Downloading https://files.pythonhosted.org/packages/36/82/dfce4509b6097cdacfab4510a401ef007e8314a2d1d179267efd873d1a55/lyricwikia-0.1.9.tar.gz\n",
      "Requirement already satisfied: beautifulsoup4 in c:\\users\\azure\\anaconda3\\lib\\site-packages (from lyricwikia) (4.6.0)\n",
      "Requirement already satisfied: requests in c:\\users\\azure\\anaconda3\\lib\\site-packages (from lyricwikia) (2.18.4)\n",
      "Requirement already satisfied: six in c:\\users\\azure\\anaconda3\\lib\\site-packages (from lyricwikia) (1.11.0)\n",
      "Requirement already satisfied: chardet<3.1.0,>=3.0.2 in c:\\users\\azure\\anaconda3\\lib\\site-packages (from requests->lyricwikia) (3.0.4)\n",
      "Requirement already satisfied: idna<2.7,>=2.5 in c:\\users\\azure\\anaconda3\\lib\\site-packages (from requests->lyricwikia) (2.6)\n",
      "Requirement already satisfied: urllib3<1.23,>=1.21.1 in c:\\users\\azure\\anaconda3\\lib\\site-packages (from requests->lyricwikia) (1.22)\n",
      "Requirement already satisfied: certifi>=2017.4.17 in c:\\users\\azure\\anaconda3\\lib\\site-packages (from requests->lyricwikia) (2018.4.16)\n",
      "Building wheels for collected packages: lyricwikia\n",
      "  Running setup.py bdist_wheel for lyricwikia: started\n",
      "  Running setup.py bdist_wheel for lyricwikia: finished with status 'done'\n",
      "  Stored in directory: C:\\Users\\Azure\\AppData\\Local\\pip\\Cache\\wheels\\5e\\7d\\5d\\b77975b5cabfc8848a795a851b07b3fde7fd685b27e501d055\n",
      "Successfully built lyricwikia\n",
      "Installing collected packages: lyricwikia\n",
      "Successfully installed lyricwikia-0.1.9\n"
     ]
    },
    {
     "name": "stderr",
     "output_type": "stream",
     "text": [
      "notebook 5.4.0 requires ipykernel, which is not installed.\n",
      "jupyter 1.0.0 requires ipykernel, which is not installed.\n",
      "jupyter-console 5.2.0 requires ipykernel, which is not installed.\n",
      "ipywidgets 7.1.1 requires ipykernel>=4.5.1, which is not installed.\n"
     ]
    }
   ],
   "source": [
    "!pip install lyricwikia"
   ]
  },
  {
   "cell_type": "code",
   "execution_count": 11,
   "metadata": {},
   "outputs": [
    {
     "name": "stdout",
     "output_type": "stream",
     "text": [
      "Requirement already up-to-date: pip in c:\\users\\azure\\anaconda3\\lib\\site-packages (10.0.1)\n"
     ]
    },
    {
     "name": "stderr",
     "output_type": "stream",
     "text": [
      "notebook 5.4.0 requires ipykernel, which is not installed.\n",
      "jupyter 1.0.0 requires ipykernel, which is not installed.\n",
      "jupyter-console 5.2.0 requires ipykernel, which is not installed.\n",
      "ipywidgets 7.1.1 requires ipykernel>=4.5.1, which is not installed.\n"
     ]
    }
   ],
   "source": [
    "!c:\\users\\azure\\anaconda3\\python.exe -m pip install --upgrade pip"
   ]
  },
  {
   "cell_type": "code",
   "execution_count": 12,
   "metadata": {},
   "outputs": [
    {
     "ename": "SyntaxError",
     "evalue": "invalid syntax (<ipython-input-12-261f41ac06e8>, line 1)",
     "output_type": "error",
     "traceback": [
      "\u001b[1;36m  File \u001b[1;32m\"<ipython-input-12-261f41ac06e8>\"\u001b[1;36m, line \u001b[1;32m1\u001b[0m\n\u001b[1;33m    - #!/usr/bin/env python2\u001b[0m\n\u001b[1;37m                            ^\u001b[0m\n\u001b[1;31mSyntaxError\u001b[0m\u001b[1;31m:\u001b[0m invalid syntax\n"
     ]
    }
   ],
   "source": []
  },
  {
   "cell_type": "code",
   "execution_count": 46,
   "metadata": {},
   "outputs": [
    {
     "name": "stdout",
     "output_type": "stream",
     "text": [
      "Collecting pymusixmatch\n",
      "  Downloading https://files.pythonhosted.org/packages/20/6b/4819f72f915885c3a4510d2da933fb398c4068fc69f3c3795adcd310cce1/pymusixmatch-0.3.tar.gz\n",
      "Requirement already satisfied: requests in c:\\users\\azure\\anaconda3\\lib\\site-packages (from pymusixmatch) (2.18.4)\n",
      "Requirement already satisfied: chardet<3.1.0,>=3.0.2 in c:\\users\\azure\\anaconda3\\lib\\site-packages (from requests->pymusixmatch) (3.0.4)\n",
      "Requirement already satisfied: idna<2.7,>=2.5 in c:\\users\\azure\\anaconda3\\lib\\site-packages (from requests->pymusixmatch) (2.6)\n",
      "Requirement already satisfied: urllib3<1.23,>=1.21.1 in c:\\users\\azure\\anaconda3\\lib\\site-packages (from requests->pymusixmatch) (1.22)\n",
      "Requirement already satisfied: certifi>=2017.4.17 in c:\\users\\azure\\anaconda3\\lib\\site-packages (from requests->pymusixmatch) (2018.4.16)\n",
      "Building wheels for collected packages: pymusixmatch\n",
      "  Running setup.py bdist_wheel for pymusixmatch: started\n",
      "  Running setup.py bdist_wheel for pymusixmatch: finished with status 'done'\n",
      "  Stored in directory: C:\\Users\\Azure\\AppData\\Local\\pip\\Cache\\wheels\\45\\83\\1c\\c250feedd15995af4d064d162ef4af5126bb4ccc860ad32f0e\n",
      "Successfully built pymusixmatch\n",
      "Installing collected packages: pymusixmatch\n",
      "Successfully installed pymusixmatch-0.3\n"
     ]
    },
    {
     "name": "stderr",
     "output_type": "stream",
     "text": [
      "notebook 5.4.0 requires ipykernel, which is not installed.\n",
      "jupyter 1.0.0 requires ipykernel, which is not installed.\n",
      "jupyter-console 5.2.0 requires ipykernel, which is not installed.\n",
      "ipywidgets 7.1.1 requires ipykernel>=4.5.1, which is not installed.\n"
     ]
    }
   ],
   "source": [
    "!pip install pymusixmatch"
   ]
  },
  {
   "cell_type": "code",
   "execution_count": null,
   "metadata": {},
   "outputs": [],
   "source": []
  }
 ],
 "metadata": {
  "kernelspec": {
   "display_name": "Python 3",
   "language": "python",
   "name": "python3"
  },
  "language_info": {
   "codemirror_mode": {
    "name": "ipython",
    "version": 3
   },
   "file_extension": ".py",
   "mimetype": "text/x-python",
   "name": "python",
   "nbconvert_exporter": "python",
   "pygments_lexer": "ipython3",
   "version": "3.6.4"
  }
 },
 "nbformat": 4,
 "nbformat_minor": 2
}
