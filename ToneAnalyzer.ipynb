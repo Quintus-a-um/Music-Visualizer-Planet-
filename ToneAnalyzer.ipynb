from __future__ import print_function
import json
import sys
from os.path import join, dirname
from watson_developer_cloud import ToneAnalyzerV3
from musixmatch import Musixmatch

musixmatch = Musixmatch('991ade38d35ffd10230e3a9991ada8d1')

tone_analyzer = ToneAnalyzerV3(
    username = '40b1ff50-73ed-4398-b705-ab5f56424ce1',
    password = 'zTOgl5ZJHs8u',
    version = '2017-09-26')

lyrics = musixmatch.matcher_lyrics_get('Through the fire and flames', 'Dragonforce')

jsonLyrics = json.dumps(lyrics)

jsonLyric = json.loads(jsonLyrics)

for item in jsonLyric['message']:
    for thing in item['body']:
        for stuff in thing['lyrics']:
            print(stuff['lyrics_body'])
            
print(jsonLyric)
    
fh = open('lyrics.js', 'w+')

fh.write(lyrics)

fh.close()


f = open('lyrics.js', 'r+')

print("\ntone_chat() Dragonforce - Through the Fire and Flames:\n")

emotions = {}

for line in f.readlines():
    
    content_type = 'application/json'
    tone = tone_analyzer.tone({"text": line}, content_type)
    jsonText = json.dumps(tone, indent=2)
    
    print(jsonText)
    
    data = json.loads(jsonText)

for item in data['document_tone']:
    for thing in item['tones']:
        print(thing['tone_name'])
    
    
   
    
    
f.close()
