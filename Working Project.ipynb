{
 "cells": [
  {
   "cell_type": "code",
   "execution_count": null,
   "metadata": {},
   "outputs": [
    {
     "name": "stdout",
     "output_type": "stream",
     "text": [
      "\n",
      "tone_chat() Dragonforce - Through the fire and flames:\n",
      "\n"
     ]
    }
   ],
   "source": [
    "from __future__ import print_function\n",
    "import json\n",
    "import sys\n",
    "from os.path import join, dirname\n",
    "from watson_developer_cloud import ToneAnalyzerV3\n",
    "import lyricwikia\n",
    "\n",
    "\n",
    "\n",
    "tone_analyzer = ToneAnalyzerV3(\n",
    "    username = \"389e7a70-c84b-423e-811e-74cfbcd10635\",\n",
    "    password = \"6gNccgY2WX0O\",\n",
    "    version = '2017-09-26',\n",
    "    url = \"https://gateway.watsonplatform.net/tone-analyzer/api\" )\n",
    "\n",
    "lyric = lyricwikia.get_lyrics('Dragonforce', 'Through the Fire and Flames')\n",
    "\n",
    "\n",
    "\n",
    "fh = open('lyrics.txt', 'w+')\n",
    "\n",
    "fh.write(lyric)\n",
    "\n",
    "fh.close()\n",
    "\n",
    "\n",
    "f = open('lyrics.txt', 'r+')\n",
    "\n",
    "print(\"\\ntone_chat() Dragonforce - Through the fire and flames:\\n\")\n",
    "\n",
    "jsonParsing = []\n",
    "for line in f.readlines():\n",
    "\n",
    "    content_type = 'application/json'\n",
    "    tone = tone_analyzer.tone({\"text\": line}, content_type)\n",
    "    jsonText = json.dumps(tone, indent=2)\n",
    "    jsonParse = json.loads(jsonText)\n",
    "    jsonParsing.extend(jsonParse[\"document_tone\"][\"tones\"])  \n",
    "   \n",
    "    \n",
    "f.close()\n",
    "\n",
    "emotions = []\n",
    "m = []\n",
    "n = []\n",
    "\n",
    "for i in range(len(jsonParsing)):\n",
    "    m = jsonParsing[i][\"tone_name\"]\n",
    "    n = jsonParsing[i][\"score\"]\n",
    "\n",
    "    emotions.extend([m,n])\n",
    "    \n",
    "\n",
    "j = 1\n",
    "for i in range(len(emotions)):\n",
    "    while j < len(emotions):\n",
    "        if emotions[i] == 'Anger' and emotions[j] >= 0.6:\n",
    "            print('a')\n",
    "        elif emotions[i] == 'Disgust' and emotions[j] >= 0.6:\n",
    "            print('a')\n",
    "        elif emotions[i] == 'Fear' and emotions[j] >= 0.6:\n",
    "            print('a')\n",
    "        elif emotions[i] == 'Joy' and emotions[j] >= 0.6:\n",
    "            print('a')    \n",
    "        elif emotions[i] == 'Sadness' and emotions[j] >= 0.6:\n",
    "            print('a')\n",
    "        elif emotions[i] == 'Analytical' and emotions[j] >= 0.6:\n",
    "            print('a')\n",
    "        elif emotions[i] == 'Confident' and emotions[j] >= 0.6:\n",
    "            print('a')\n",
    "        elif emotions[i] == 'Tentative' and emotions[j] >= 0.6:\n",
    "            print('a')\n",
    "        elif emotions[i] == 'Openness' and emotions[j] >= 0.6:\n",
    "            print('a')\n",
    "        elif emotions[i] == 'Conscientiousness' and emotions[j] >= 0.6:\n",
    "            print('a')\n",
    "        elif emotions[i] == 'Extraversion' and emotions[j] >= 0.6:\n",
    "            print('a')\n",
    "        elif emotions[i] == 'Agreeableness' and emotions[j] >= 0.6:\n",
    "            print('a')\n",
    "        elif emotions[i] == 'Emotional Range' and emotions[j] >= 0.6:\n",
    "            print('a')\n",
    "        \n",
    "        j += 2\n",
    "    i += 2\n",
    "   "
   ]
  },
  {
   "cell_type": "code",
   "execution_count": 78,
   "metadata": {},
   "outputs": [
    {
     "data": {
      "text/plain": [
       "0.697052"
      ]
     },
     "execution_count": 78,
     "metadata": {},
     "output_type": "execute_result"
    }
   ],
   "source": [
    "emotions[3]"
   ]
  },
  {
   "cell_type": "code",
   "execution_count": 59,
   "metadata": {},
   "outputs": [
    {
     "name": "stdout",
     "output_type": "stream",
     "text": [
      "Collecting bpy\n"
     ]
    },
    {
     "name": "stderr",
     "output_type": "stream",
     "text": [
      "  Could not find a version that satisfies the requirement bpy (from versions: )\n",
      "No matching distribution found for bpy\n"
     ]
    }
   ],
   "source": []
  },
  {
   "cell_type": "code",
   "execution_count": null,
   "metadata": {},
   "outputs": [],
   "source": []
  }
 ],
 "metadata": {
  "kernelspec": {
   "display_name": "Python 3",
   "language": "python",
   "name": "python3"
  },
  "language_info": {
   "codemirror_mode": {
    "name": "ipython",
    "version": 3
   },
   "file_extension": ".py",
   "mimetype": "text/x-python",
   "name": "python",
   "nbconvert_exporter": "python",
   "pygments_lexer": "ipython3",
   "version": "3.6.4"
  }
 },
 "nbformat": 4,
 "nbformat_minor": 2
}
