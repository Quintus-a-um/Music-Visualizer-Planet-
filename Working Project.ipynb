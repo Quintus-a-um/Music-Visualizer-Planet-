{
 "cells": [
  {
   "cell_type": "code",
   "execution_count": 56,
   "metadata": {},
   "outputs": [
    {
     "name": "stdout",
     "output_type": "stream",
     "text": [
      "\n",
      "tone_chat() Led Zeppelin - Stairway To Heaven:\n",
      "\n",
      "[['Sadness', 0.511165], ['Sadness', 0.697052], ['Joy', 0.816009], ['Tentative', 0.822231], ['Sadness', 0.518879], ['Anger', 0.619897], ['Anger', 0.608597], ['Sadness', 0.865077], ['Analytical', 0.724236], ['Joy', 0.557844], ['Confident', 0.898327], ['Sadness', 0.695561], ['Analytical', 0.895415], ['Sadness', 0.616244], ['Confident', 0.898327], ['Sadness', 0.859366], ['Joy', 0.621329], ['Joy', 0.743111], ['Joy', 0.612119], ['Joy', 0.524931], ['Tentative', 0.786991], ['Confident', 0.92125], ['Analytical', 0.8152], ['Confident', 0.618451], ['Sadness', 0.638092], ['Confident', 0.874372], ['Sadness', 0.707601], ['Confident', 0.618451], ['Analytical', 0.687768], ['Confident', 0.704642], ['Sadness', 0.695561], ['Analytical', 0.895415], ['Sadness', 0.616244], ['Confident', 0.898327], ['Sadness', 0.859366], ['Fear', 0.516628], ['Sadness', 0.524235], ['Sadness', 0.52202], ['Tentative', 0.786991], ['Confident', 0.961633], ['Sadness', 0.695561], ['Analytical', 0.895415], ['Sadness', 0.616244], ['Confident', 0.898327], ['Sadness', 0.859366]]\n"
     ]
    }
   ],
   "source": [
    "from __future__ import print_function\n",
    "import json\n",
    "import sys\n",
    "from os.path import join, dirname\n",
    "from watson_developer_cloud import ToneAnalyzerV3\n",
    "import lyricwikia\n",
    "\n",
    "\n",
    "tone_analyzer = ToneAnalyzerV3(\n",
    "    username = \"1fe9e4cf-70c0-4426-b6da-8f9c2ac74eea\",\n",
    "    password = \"uQoqHIDa6iKe\",\n",
    "    version = '2017-09-26',\n",
    "    url = \"https://gateway.watsonplatform.net/tone-analyzer/api\" )\n",
    "\n",
    "lyric = lyricwikia.get_lyrics('Dragonforce', 'Through the Fire and Flames')\n",
    "\n",
    "\n",
    "\n",
    "fh = open('lyrics.txt', 'w+')\n",
    "\n",
    "fh.write(lyric)\n",
    "\n",
    "fh.close()\n",
    "\n",
    "\n",
    "f = open('lyrics.txt', 'r+')\n",
    "\n",
    "print(\"\\ntone_chat() Led Zeppelin - Stairway To Heaven:\\n\")\n",
    "\n",
    "jsonParsing = []\n",
    "for line in f.readlines():\n",
    "\n",
    "    content_type = 'application/json'\n",
    "    tone = tone_analyzer.tone({\"text\": line}, content_type)\n",
    "    jsonText = json.dumps(tone, indent=2)\n",
    "    jsonParse = json.loads(jsonText)\n",
    "    jsonParsing.extend(jsonParse[\"document_tone\"][\"tones\"])  \n",
    "   \n",
    "    \n",
    "f.close()\n",
    "\n",
    "emotions = []\n",
    "m = []\n",
    "n = []\n",
    "\n",
    "for i in range(len(jsonParsing)):\n",
    "    m = jsonParsing[i][\"tone_name\"]\n",
    "    n = jsonParsing[i][\"score\"]\n",
    "\n",
    "    emotions.append([m, n])\n",
    "    \n",
    "print(emotions)"
   ]
  },
  {
   "cell_type": "code",
   "execution_count": 57,
   "metadata": {},
   "outputs": [
    {
     "data": {
      "text/plain": [
       "['Sadness', 0.511165]"
      ]
     },
     "execution_count": 57,
     "metadata": {},
     "output_type": "execute_result"
    }
   ],
   "source": [
    "emotions[0]"
   ]
  },
  {
   "cell_type": "code",
   "execution_count": null,
   "metadata": {},
   "outputs": [],
   "source": []
  }
 ],
 "metadata": {
  "kernelspec": {
   "display_name": "Python 3",
   "language": "python",
   "name": "python3"
  },
  "language_info": {
   "codemirror_mode": {
    "name": "ipython",
    "version": 3
   },
   "file_extension": ".py",
   "mimetype": "text/x-python",
   "name": "python",
   "nbconvert_exporter": "python",
   "pygments_lexer": "ipython3",
   "version": "3.6.4"
  }
 },
 "nbformat": 4,
 "nbformat_minor": 2
}
